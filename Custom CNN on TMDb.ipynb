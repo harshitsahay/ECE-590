{
 "cells": [
  {
   "cell_type": "code",
   "execution_count": 2,
   "metadata": {},
   "outputs": [
    {
     "name": "stderr",
     "output_type": "stream",
     "text": [
      "Using TensorFlow backend.\n"
     ]
    }
   ],
   "source": [
    "import keras\n",
    "from keras.preprocessing import image\n",
    "from keras.models import Sequential\n",
    "from keras.layers import Dense, Conv2D, MaxPooling2D, Flatten\n",
    "from keras.layers.advanced_activations import LeakyReLU\n",
    "from keras.models import model_from_json # for model saving\n",
    "from sklearn.model_selection import train_test_split\n",
    "import pandas as pd\n",
    "import numpy as np\n",
    "import matplotlib.pyplot as plt"
   ]
  },
  {
   "cell_type": "code",
   "execution_count": 6,
   "metadata": {},
   "outputs": [
    {
     "data": {
      "text/plain": [
       "matrix([[0, 0, 0, ..., 0, 1, 0],\n",
       "        [1, 0, 0, ..., 0, 0, 1],\n",
       "        [1, 0, 0, ..., 0, 1, 0],\n",
       "        ...,\n",
       "        [0, 0, 0, ..., 0, 0, 0],\n",
       "        [1, 0, 0, ..., 1, 0, 0],\n",
       "        [0, 0, 0, ..., 0, 0, 0]], dtype=int64)"
      ]
     },
     "execution_count": 6,
     "metadata": {},
     "output_type": "execute_result"
    },
    {
     "data": {
      "image/png": "[encoded data removed]",
      "text/plain": [
       "<Figure size 432x288 with 1 Axes>"
      ]
     },
     "metadata": {
      "needs_background": "light"
     },
     "output_type": "display_data"
    }
   ],
   "source": [
    "genres_df=pd.read_csv('data/genres.csv').set_index(\"movie\")\n",
    "\n",
    "poster_ids = []\n",
    "poster_data = []\n",
    "posters_dir = 'posters/'\n",
    "dim= (224,224)\n",
    "channels=3\n",
    "\n",
    "for movie, row in genres_df.iterrows():\n",
    "    img_path = '{}/{}.jpg'.format(posters_dir, movie)\n",
    "    img = image.load_img(img_path, target_size=dim, color_mode='rgb')\n",
    "    x = image.img_to_array(img)\n",
    "    poster_data.append(x)\n",
    "    poster_ids.append(movie)\n",
    "\n",
    "poster_data = np.array(poster_data)\n",
    "\n",
    "\n",
    "genres_df=pd.read_csv('data/genres.csv').set_index(\"movie\")\n",
    "genres_df.sum().plot.bar()\n",
    "\n",
    "#remove underrepresented genres\n",
    "genres_df=genres_df.drop(columns=['Documentary', 'TV Movie', 'Music','Western'])\n",
    "genres_mat = np.matrix(genres_df.reset_index(drop=True))\n",
    "genres_df.head()\n",
    "genres_mat"
   ]
  },
  {
   "cell_type": "code",
   "execution_count": 19,
   "metadata": {},
   "outputs": [
    {
     "data": {
      "text/plain": [
       "(1029, 15)"
      ]
     },
     "execution_count": 19,
     "metadata": {},
     "output_type": "execute_result"
    }
   ],
   "source": [
    "poster_data.shape\n",
    "genres_mat.shape"
   ]
  },
  {
   "cell_type": "code",
   "execution_count": 7,
   "metadata": {},
   "outputs": [],
   "source": [
    "input_shape=(224,224,3)\n",
    "num_classes=len(genres_df.columns)\n",
    "genres=np.array(genres_mat)\n"
   ]
  },
  {
   "cell_type": "code",
   "execution_count": 75,
   "metadata": {},
   "outputs": [],
   "source": [
    "from keras import optimizers\n",
    "from keras.layers import Dropout\n",
    "\n",
    "relu_leak = 0.3\n",
    "\n",
    "\n",
    "##Custom CNN\n",
    "model = Sequential()\n",
    "model.add(Conv2D(32, kernel_size=(5, 5), strides=(1, 1), input_shape=input_shape))\n",
    "model.add(LeakyReLU(alpha=relu_leak))\n",
    "model.add(MaxPooling2D(pool_size=(2, 2), strides=(2, 2)))\n",
    "model.add(Conv2D(32, (5, 5)))\n",
    "model.add(LeakyReLU(alpha=relu_leak))\n",
    "model.add(MaxPooling2D(pool_size=(2, 2)))\n",
    "Dropout(0.5)\n",
    "model.add(Flatten())\n",
    "model.add(Dense(256))\n",
    "model.add(LeakyReLU(alpha=relu_leak))\n",
    "Dropout(0.5)\n",
    "model.add(Dense(num_classes, activation='sigmoid'))\n",
    "opt = optimizers.rmsprop(lr=0.0001, decay=1e-6)\n",
    "model.compile(loss='binary_crossentropy',\n",
    "              optimizer=opt,metrics=['accuracy'])\n",
    "\n"
   ]
  },
  {
   "cell_type": "code",
   "execution_count": 76,
   "metadata": {},
   "outputs": [
    {
     "name": "stdout",
     "output_type": "stream",
     "text": [
      "Epoch 1/10\n",
      "771/771 [==============================] - 99s 128ms/step - loss: 3.7847 - acc: 0.7620\n",
      "Epoch 2/10\n",
      "771/771 [==============================] - 93s 121ms/step - loss: 3.6085 - acc: 0.7752\n",
      "Epoch 3/10\n",
      "771/771 [==============================] - 105s 136ms/step - loss: 3.6085 - acc: 0.7752\n",
      "Epoch 4/10\n",
      "771/771 [==============================] - 101s 130ms/step - loss: 3.6085 - acc: 0.7752\n",
      "Epoch 5/10\n",
      "771/771 [==============================] - 140s 182ms/step - loss: 3.6085 - acc: 0.7752\n",
      "Epoch 6/10\n",
      "771/771 [==============================] - 114s 148ms/step - loss: 3.6085 - acc: 0.7752\n",
      "Epoch 7/10\n",
      "771/771 [==============================] - 137s 178ms/step - loss: 3.6085 - acc: 0.7752\n",
      "Epoch 8/10\n",
      "771/771 [==============================] - 103s 133ms/step - loss: 3.6085 - acc: 0.7752\n",
      "Epoch 9/10\n",
      "771/771 [==============================] - 87s 113ms/step - loss: 3.6085 - acc: 0.7752\n",
      "Epoch 10/10\n",
      "771/771 [==============================] - 86s 112ms/step - loss: 3.6085 - acc: 0.7752\n"
     ]
    },
    {
     "data": {
      "text/plain": [
       "<keras.callbacks.History at 0x2a46dc71908>"
      ]
     },
     "execution_count": 76,
     "metadata": {},
     "output_type": "execute_result"
    }
   ],
   "source": [
    "x=poster_data\n",
    "y=genres\n",
    "model.fit(x[:771],y[:771],epochs=10,batch_size=32,verbose=1)"
   ]
  },
  {
   "cell_type": "code",
   "execution_count": 77,
   "metadata": {},
   "outputs": [],
   "source": [
    "genres_pred=model.predict(x[771:])\n",
    "genres_test=y[771:]"
   ]
  },
  {
   "cell_type": "code",
   "execution_count": 78,
   "metadata": {},
   "outputs": [],
   "source": [
    "def get_accuracy(genres_pred,genres_test,k):\n",
    "    i=0\n",
    "    correct=0\n",
    "\n",
    "    for prediction in genres_pred:\n",
    "        film=genres_test[i]\n",
    "        predictions=prediction.argsort()[-k:][::-1]\n",
    "        for genre in predictions:\n",
    "            if(film[genre]==1):\n",
    "                correct=correct+1\n",
    "                break\n",
    "        i=i+1\n",
    "    return(correct/(len(genres_test)))"
   ]
  },
  {
   "cell_type": "code",
   "execution_count": 79,
   "metadata": {},
   "outputs": [
    {
     "name": "stdout",
     "output_type": "stream",
     "text": [
      "Accuracy with top 1 predictions 33.72\n",
      "Accuracy with top 2 predictions 51.94\n",
      "Accuracy with top 3 predictions 52.71\n"
     ]
    }
   ],
   "source": [
    "for k in [1,2,3]:\n",
    "    print(\"Accuracy with top\",k,\"predictions\",round(get_accuracy(genres_pred,genres_test,k)*100,2))"
   ]
  },
  {
   "cell_type": "code",
   "execution_count": 85,
   "metadata": {},
   "outputs": [],
   "source": [
    "import pydot"
   ]
  },
  {
   "cell_type": "code",
   "execution_count": 88,
   "metadata": {},
   "outputs": [
    {
     "name": "stdout",
     "output_type": "stream",
     "text": [
      "_________________________________________________________________\n",
      "Layer (type)                 Output Shape              Param #   \n",
      "=================================================================\n",
      "conv2d_12 (Conv2D)           (None, 220, 220, 32)      2432      \n",
      "_________________________________________________________________\n",
      "leaky_re_lu_15 (LeakyReLU)   (None, 220, 220, 32)      0         \n",
      "_________________________________________________________________\n",
      "max_pooling2d_12 (MaxPooling (None, 110, 110, 32)      0         \n",
      "_________________________________________________________________\n",
      "conv2d_13 (Conv2D)           (None, 106, 106, 32)      25632     \n",
      "_________________________________________________________________\n",
      "leaky_re_lu_16 (LeakyReLU)   (None, 106, 106, 32)      0         \n",
      "_________________________________________________________________\n",
      "max_pooling2d_13 (MaxPooling (None, 53, 53, 32)        0         \n",
      "_________________________________________________________________\n",
      "flatten_4 (Flatten)          (None, 89888)             0         \n",
      "_________________________________________________________________\n",
      "dense_7 (Dense)              (None, 256)               23011584  \n",
      "_________________________________________________________________\n",
      "leaky_re_lu_17 (LeakyReLU)   (None, 256)               0         \n",
      "_________________________________________________________________\n",
      "dense_8 (Dense)              (None, 15)                3855      \n",
      "=================================================================\n",
      "Total params: 23,043,503\n",
      "Trainable params: 23,043,503\n",
      "Non-trainable params: 0\n",
      "_________________________________________________________________\n"
     ]
    }
   ],
   "source": [
    "\n",
    "model.summary()"
   ]
  }
 ],
 "metadata": {
  "kernelspec": {
   "display_name": "Python 3",
   "language": "python",
   "name": "python3"
  },
  "language_info": {
   "codemirror_mode": {
    "name": "ipython",
    "version": 3
   },
   "file_extension": ".py",
   "mimetype": "text/x-python",
   "name": "python",
   "nbconvert_exporter": "python",
   "pygments_lexer": "ipython3",
   "version": "3.7.1"
  }
 },
 "nbformat": 4,
 "nbformat_minor": 2
}
